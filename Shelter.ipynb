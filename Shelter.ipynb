{
 "cells": [
  {
   "cell_type": "markdown",
   "metadata": {},
   "source": [
    "We import the needed libraries for our analysis as below:"
   ]
  },
  {
   "cell_type": "code",
   "execution_count": 2,
   "metadata": {
    "scrolled": true
   },
   "outputs": [],
   "source": [
    "import numpy as np\n",
    "import pandas as pd\n",
    "import matplotlib as mpl\n",
    "#mpl.use(\"agg\")\n",
    "import matplotlib.pyplot as plt\n",
    "from sklearn.linear_model import LogisticRegression\n",
    "import sklearn.tree \n",
    "#matplotlib.style.use(\"ggplot\")\n",
    "from sklearn.model_selection import train_test_split\n",
    "from sklearn.ensemble import RandomForestRegressor\n",
    "from sklearn.ensemble import AdaBoostClassifier\n",
    "from sklearn import preprocessing\n",
    "from sklearn import svm\n",
    "from sklearn.tree import DecisionTreeClassifier\n",
    "from sklearn.externals.six import StringIO  \n",
    "from IPython.display import Image  \n",
    "from sklearn.tree import export_graphviz\n",
    "from sklearn.metrics import accuracy_score\n",
    "import pydotplus\n",
    "\n",
    "%matplotlib inline\n",
    "my_dpi = 300"
   ]
  },
  {
   "cell_type": "markdown",
   "metadata": {},
   "source": [
    "Importing the data:"
   ]
  },
  {
   "cell_type": "code",
   "execution_count": 3,
   "metadata": {},
   "outputs": [],
   "source": [
    "full_data = pd.read_csv(\"DataFrame.csv\")"
   ]
  },
  {
   "cell_type": "markdown",
   "metadata": {},
   "source": [
    "We check the number of the missing values of the dataset:"
   ]
  },
  {
   "cell_type": "code",
   "execution_count": 4,
   "metadata": {},
   "outputs": [
    {
     "name": "stdout",
     "output_type": "stream",
     "text": [
      "AnimalID              0\n",
      "Name               7691\n",
      "DateTime              0\n",
      "OutcomeType           0\n",
      "OutcomeSubtype    13612\n",
      "AnimalType            0\n",
      "SexuponOutcome        1\n",
      "AgeuponOutcome       18\n",
      "Breed                 0\n",
      "Color                 0\n",
      "dtype: int64\n",
      "missing_percent = 8.0%\n"
     ]
    }
   ],
   "source": [
    "missing_values_count = full_data.isnull().sum()\n",
    "total_cells = np.product(full_data.shape)\n",
    "total_missing = missing_values_count.sum()\n",
    "missing_percent = total_missing / total_cells\n",
    "print(missing_values_count)\n",
    "print('missing_percent = ' + str(round(missing_percent,2)*100) + '%')"
   ]
  },
  {
   "cell_type": "markdown",
   "metadata": {},
   "source": [
    "We assess the number of the each animal type:"
   ]
  },
  {
   "cell_type": "code",
   "execution_count": 6,
   "metadata": {
    "scrolled": true
   },
   "outputs": [
    {
     "data": {
      "image/png": "[encoded data removed]",
      "text/plain": [
       "<Figure size 648x360 with 1 Axes>"
      ]
     },
     "metadata": {
      "needs_background": "light"
     },
     "output_type": "display_data"
    }
   ],
   "source": [
    "AnimalType = full_data[\"AnimalType\"].value_counts()\n",
    "plot1 = AnimalType.plot(kind='bar' , rot = 0,figsize=(9,5))\n",
    "#plot1.figure.savefig(fname='figures/animal_type_num.png',dpi=my_dpi)"
   ]
  },
  {
   "cell_type": "code",
   "execution_count": 7,
   "metadata": {
    "scrolled": false
   },
   "outputs": [
    {
     "data": {
      "image/png": "[encoded data removed]",
      "text/plain": [
       "<Figure size 324x324 with 1 Axes>"
      ]
     },
     "metadata": {},
     "output_type": "display_data"
    }
   ],
   "source": [
    "AnimalOutcome = full_data.OutcomeType.value_counts().sort_values()\n",
    "plot2 = AnimalOutcome.plot(kind='pie',figsize=(4.5,4.5),fontsize=8, autopct='%.0f%%')\n",
    "#plot2.figure.savefig(fname='figures/outcome_pie_plot.png',dpi=100)"
   ]
  },
  {
   "cell_type": "markdown",
   "metadata": {},
   "source": [
    "We find the number of the distinct names of the animals."
   ]
  },
  {
   "cell_type": "code",
   "execution_count": 8,
   "metadata": {},
   "outputs": [
    {
     "name": "stdout",
     "output_type": "stream",
     "text": [
      "Number of unique names is: 6375\n"
     ]
    }
   ],
   "source": [
    "print ('Number of unique names is: '+ str(len(full_data.Name.unique())))"
   ]
  },
  {
   "cell_type": "markdown",
   "metadata": {},
   "source": [
    "We find the number of NA's in the dataset as below:"
   ]
  },
  {
   "cell_type": "code",
   "execution_count": 9,
   "metadata": {},
   "outputs": [
    {
     "name": "stdout",
     "output_type": "stream",
     "text": [
      "Number of names = 19038\n",
      "Number of NAs in names = 7691\n"
     ]
    }
   ],
   "source": [
    "print('Number of names = ' + str(full_data.Name.count()))\n",
    "print('Number of NA''s in names = ' + str(full_data.Name.isna().sum()))"
   ]
  },
  {
   "cell_type": "code",
   "execution_count": 10,
   "metadata": {},
   "outputs": [
    {
     "name": "stdout",
     "output_type": "stream",
     "text": [
      "      AnimalID HasName             DateTime      OutcomeType OutcomeSubtype  \\\n",
      "0      A671945       1  2014-02-12 18:22:00  Return_to_owner            NaN   \n",
      "1      A656520       1  2013-10-13 12:44:00       Euthanasia      Suffering   \n",
      "2      A686464       1  2015-01-31 12:28:00         Adoption         Foster   \n",
      "3      A683430       0  2014-07-11 19:09:00         Transfer        Partner   \n",
      "4      A667013       0  2013-11-15 12:52:00         Transfer        Partner   \n",
      "...        ...     ...                  ...              ...            ...   \n",
      "26724  A702446       0  2015-05-14 11:56:00         Transfer        Partner   \n",
      "26725  A718934       0  2016-01-20 18:59:00         Transfer           SCRP   \n",
      "26726  A698128       1  2015-03-09 13:33:00         Adoption            NaN   \n",
      "26727  A677478       0  2014-04-27 12:22:00         Transfer        Partner   \n",
      "26728  A706629       0  2015-07-02 09:00:00         Transfer           SCRP   \n",
      "\n",
      "      AnimalType SexuponOutcome AgeuponOutcome                        Breed  \\\n",
      "0            Dog  Neutered Male         1 year        Shetland Sheepdog Mix   \n",
      "1            Cat  Spayed Female         1 year       Domestic Shorthair Mix   \n",
      "2            Dog  Neutered Male        2 years                 Pit Bull Mix   \n",
      "3            Cat    Intact Male        3 weeks       Domestic Shorthair Mix   \n",
      "4            Dog  Neutered Male        2 years  Lhasa Apso/Miniature Poodle   \n",
      "...          ...            ...            ...                          ...   \n",
      "26724        Cat    Intact Male        1 month       Domestic Shorthair Mix   \n",
      "26725        Cat  Spayed Female       3 months       Domestic Shorthair Mix   \n",
      "26726        Dog  Neutered Male        4 years      Old English Bulldog Mix   \n",
      "26727        Cat    Intact Male        4 weeks       Domestic Shorthair Mix   \n",
      "26728        Cat    Intact Male         1 year       Domestic Shorthair Mix   \n",
      "\n",
      "                   Color  \n",
      "0            Brown/White  \n",
      "1            Cream Tabby  \n",
      "2             Blue/White  \n",
      "3             Blue Cream  \n",
      "4                    Tan  \n",
      "...                  ...  \n",
      "26724  Brown Tabby/White  \n",
      "26725        Brown Tabby  \n",
      "26726          White/Tan  \n",
      "26727              Black  \n",
      "26728  Brown Tabby/White  \n",
      "\n",
      "[26729 rows x 10 columns]\n"
     ]
    }
   ],
   "source": [
    "#Adding column called HasName\n",
    "idx_null =full_data['Name'].isnull();\n",
    "# print(idx_null);\n",
    "\n",
    "full_data.Name[idx_null]= 0\n",
    "full_data.Name[~idx_null] = 1\n",
    "full_data.rename(columns={'Name':'HasName'}, inplace=True)\n",
    "print(full_data)"
   ]
  },
  {
   "cell_type": "code",
   "execution_count": 11,
   "metadata": {},
   "outputs": [
    {
     "data": {
      "text/plain": [
       "<bound method _AxesBase.set_autoscale_on of <matplotlib.axes._subplots.AxesSubplot object at 0x000001E1C8C50E88>>"
      ]
     },
     "execution_count": 11,
     "metadata": {},
     "output_type": "execute_result"
    },
    {
     "data": {
      "image/png": "[encoded data removed]",
      "text/plain": [
       "<Figure size 648x432 with 1 Axes>"
      ]
     },
     "metadata": {
      "needs_background": "light"
     },
     "output_type": "display_data"
    }
   ],
   "source": [
    "AnimalName = full_data[['HasName','OutcomeType']].groupby(['OutcomeType','HasName']).size().unstack()\n",
    "plot3 = AnimalName.plot(kind='bar',color=['#34ABD8','#E98F85'],figsize=(9,6))\n",
    "locs, labels = plt.xticks()\n",
    "plt.setp(labels, rotation=0)\n",
    "plot3.set_autoscale_on\n",
    "#plot3.figure.savefig(fname='figures/outcome_hasname_plot.png',dpi=150)"
   ]
  },
  {
   "cell_type": "code",
   "execution_count": 12,
   "metadata": {},
   "outputs": [],
   "source": [
    "#seperating Date and Time into other columns\n",
    "full_data['Date'] = pd.to_datetime(full_data['DateTime']).dt.date\n",
    "full_data['Time'] = pd.to_datetime(full_data['DateTime']).dt.time"
   ]
  },
  {
   "cell_type": "code",
   "execution_count": 13,
   "metadata": {},
   "outputs": [],
   "source": [
    "#converting Date to Month and Weekday\n",
    "full_data['Month'] = pd.DatetimeIndex(full_data['Date']).month\n",
    "full_data['Weekday'] = pd.to_datetime(full_data['DateTime']).dt.dayofweek\n",
    "\n",
    "full_data['Time'] = pd.to_datetime(full_data['DateTime'])\n",
    "full_data['WorkHour']=full_data.Time.dt.hour"
   ]
  },
  {
   "cell_type": "code",
   "execution_count": 14,
   "metadata": {},
   "outputs": [
    {
     "name": "stderr",
     "output_type": "stream",
     "text": [
      "C:\\Users\\zibak\\anaconda3\\lib\\site-packages\\ipykernel_launcher.py:2: FutureWarning: The pandas.np module is deprecated and will be removed from pandas in a future version. Import numpy directly instead\n",
      "  \n",
      "C:\\Users\\zibak\\anaconda3\\lib\\site-packages\\ipykernel_launcher.py:4: SettingWithCopyWarning: \n",
      "A value is trying to be set on a copy of a slice from a DataFrame\n",
      "\n",
      "See the caveats in the documentation: https://pandas.pydata.org/pandas-docs/stable/user_guide/indexing.html#returning-a-view-versus-a-copy\n",
      "  after removing the cwd from sys.path.\n",
      "C:\\Users\\zibak\\anaconda3\\lib\\site-packages\\ipykernel_launcher.py:5: SettingWithCopyWarning: \n",
      "A value is trying to be set on a copy of a slice from a DataFrame\n",
      "\n",
      "See the caveats in the documentation: https://pandas.pydata.org/pandas-docs/stable/user_guide/indexing.html#returning-a-view-versus-a-copy\n",
      "  \"\"\"\n"
     ]
    }
   ],
   "source": [
    "#Changing column work hour to 0 and 1\n",
    "idx_workhour = pd.np.less(full_data['WorkHour'],16)\n",
    "# print(idx_workhour);\n",
    "full_data.WorkHour[idx_workhour]= 1\n",
    "full_data.WorkHour[~idx_workhour] = 0\n",
    "# print(full_data)"
   ]
  },
  {
   "cell_type": "code",
   "execution_count": 16,
   "metadata": {},
   "outputs": [
    {
     "data": {
      "text/plain": [
       "<matplotlib.legend.Legend at 0x1e1c72a6988>"
      ]
     },
     "execution_count": 16,
     "metadata": {},
     "output_type": "execute_result"
    },
    {
     "data": {
      "image/png": "[encoded data removed]",
      "text/plain": [
       "<Figure size 648x432 with 1 Axes>"
      ]
     },
     "metadata": {
      "needs_background": "light"
     },
     "output_type": "display_data"
    }
   ],
   "source": [
    "AnimalMonth = full_data[['Month','OutcomeType']].groupby(['Month','OutcomeType']).size().unstack()\n",
    "plot4 = AnimalMonth.plot(kind='bar',figsize=(9,6))\n",
    "locs, labels = plt.xticks()\n",
    "plt.setp(labels, rotation=0)\n",
    "plot4.legend(bbox_to_anchor=(0.95, -0.12), loc=1, borderaxespad=0.,ncol=5)\n",
    "#plot4.figure.savefig(fname='figures/outcome_month_plot.png',dpi=my_dpi)"
   ]
  },
  {
   "cell_type": "code",
   "execution_count": 17,
   "metadata": {},
   "outputs": [
    {
     "data": {
      "text/plain": [
       "[None, None, None, None, None, None, None, None, None, None]"
      ]
     },
     "execution_count": 17,
     "metadata": {},
     "output_type": "execute_result"
    },
    {
     "data": {
      "image/png": "[encoded data removed]",
      "text/plain": [
       "<Figure size 648x432 with 1 Axes>"
      ]
     },
     "metadata": {
      "needs_background": "light"
     },
     "output_type": "display_data"
    }
   ],
   "source": [
    "AnimalWork = full_data[['WorkHour','OutcomeType']].groupby(['OutcomeType','WorkHour']).size().unstack()\n",
    "plot5 = AnimalWork.plot(kind='bar',color=['#34ABD8','#E98F85'],figsize=(9,6))\n",
    "locs, labels = plt.xticks()\n",
    "plt.setp(labels, rotation=0)\n",
    "#plot5.figure.savefig(fname='figures/animal_work.png',dpi=my_dpi)"
   ]
  },
  {
   "cell_type": "code",
   "execution_count": 18,
   "metadata": {},
   "outputs": [
    {
     "data": {
      "text/plain": [
       "<matplotlib.legend.Legend at 0x1e1c7a8fd48>"
      ]
     },
     "execution_count": 18,
     "metadata": {},
     "output_type": "execute_result"
    },
    {
     "data": {
      "image/png": "[encoded data removed]",
      "text/plain": [
       "<Figure size 792x432 with 1 Axes>"
      ]
     },
     "metadata": {
      "needs_background": "light"
     },
     "output_type": "display_data"
    }
   ],
   "source": [
    "AnimalWork = full_data[['Weekday','OutcomeType']].groupby(['OutcomeType','Weekday']).size().unstack()\n",
    "plot6 = AnimalWork.plot(kind='bar',figsize=(11,6))\n",
    "locs, labels = plt.xticks()\n",
    "days = ('Mon:0','Tues:1','Weds:2','Thurs:3','Fri:4','Sat:5','Sun:6')\n",
    "plt.setp(labels, rotation=0)\n",
    "plot6.legend(bbox_to_anchor=(0.95, -0.12), loc=1, borderaxespad=0.,ncol=7,labels =days)\n",
    "#plot6.figure.savefig(fname='figures/animal_weekdays.png',dpi=my_dpi)"
   ]
  },
  {
   "cell_type": "code",
   "execution_count": 19,
   "metadata": {},
   "outputs": [],
   "source": [
    "#extracting Intact column from SexuponOutcome:\n",
    "full_data.iloc[3174,6] = 'Unknown'\n",
    "full_data['Intact']=0\n",
    "\n",
    "for i in range(26729):\n",
    "    if 'Intact' in full_data.iloc[i,6]:\n",
    "        full_data.iloc[i,15] = 1\n",
    "    elif 'Unknown' in full_data.iloc[i,6] :\n",
    "        full_data.iloc[i,15] = 'Unknown'\n",
    "    else:\n",
    "        full_data.iloc[i,15] = 0\n"
   ]
  },
  {
   "cell_type": "code",
   "execution_count": 20,
   "metadata": {},
   "outputs": [],
   "source": [
    "#extracting Sex column from SexuponOutcome:\n",
    "full_data['Sex']=0\n",
    "for i in range(26729):\n",
    "    if 'Male' in full_data.iloc[i,6]:\n",
    "        full_data.iloc[i,16] = 'Male'\n",
    "    elif 'Unknown' in full_data.iloc[i,6] :\n",
    "        full_data.iloc[i,16] = 'Unknown'\n",
    "    elif 'Female' in full_data.iloc[i,6]:\n",
    "        full_data.iloc[i,16] = 'Female'"
   ]
  },
  {
   "cell_type": "code",
   "execution_count": 21,
   "metadata": {},
   "outputs": [
    {
     "data": {
      "text/plain": [
       "<matplotlib.legend.Legend at 0x1e1c7a8fb08>"
      ]
     },
     "execution_count": 21,
     "metadata": {},
     "output_type": "execute_result"
    },
    {
     "data": {
      "image/png": "[encoded data removed]",
      "text/plain": [
       "<Figure size 648x360 with 1 Axes>"
      ]
     },
     "metadata": {
      "needs_background": "light"
     },
     "output_type": "display_data"
    }
   ],
   "source": [
    "AnimalIntact = full_data[['Intact','OutcomeType']].groupby(['OutcomeType','Intact']).size().unstack()\n",
    "plot7 = AnimalIntact.plot(kind='bar',figsize = (9,5))\n",
    "locs, labels = plt.xticks()\n",
    "plt.setp(labels, rotation=10)\n",
    "plot7.legend(bbox_to_anchor=(1, 1.0), loc=0, borderaxespad=0.,ncol=3)\n",
    "#plot7.figure.savefig(fname='figures/AnimalIntact.png',dpi=my_dpi)"
   ]
  },
  {
   "cell_type": "code",
   "execution_count": 22,
   "metadata": {},
   "outputs": [
    {
     "data": {
      "text/plain": [
       "<matplotlib.legend.Legend at 0x1e1c8ddf888>"
      ]
     },
     "execution_count": 22,
     "metadata": {},
     "output_type": "execute_result"
    },
    {
     "data": {
      "image/png": "[encoded data removed]",
      "text/plain": [
       "<Figure size 648x360 with 1 Axes>"
      ]
     },
     "metadata": {
      "needs_background": "light"
     },
     "output_type": "display_data"
    }
   ],
   "source": [
    "AnimalSex = full_data[['Sex','OutcomeType']].groupby(['OutcomeType','Sex']).size().unstack()\n",
    "plot8 = AnimalSex.plot(kind='bar',figsize = (9,5))\n",
    "locs, labels = plt.xticks()\n",
    "plt.setp(labels, rotation=10)\n",
    "plot8.legend(bbox_to_anchor=(1, 1.0), loc=0, borderaxespad=0.,ncol=3)\n",
    "#plot8.figure.savefig(fname='figures/AnimalSex.png',dpi=my_dpi)"
   ]
  },
  {
   "cell_type": "code",
   "execution_count": 23,
   "metadata": {},
   "outputs": [],
   "source": [
    "def ext_nbr(input_str):\n",
    "    out_number = ''\n",
    "    for x in input_str:\n",
    "        if x.isdigit():\n",
    "            out_number += x\n",
    "    return int(out_number)"
   ]
  },
  {
   "cell_type": "code",
   "execution_count": 24,
   "metadata": {},
   "outputs": [],
   "source": [
    "full_data['Age_Day']=0\n",
    "for i in range(26729):\n",
    "    if pd.isna(full_data.iloc[i,7]):\n",
    "        continue\n",
    "    else:  \n",
    "        num = ext_nbr(full_data.iloc[i,7])\n",
    "        if 'week' in full_data.iloc[i,7]:\n",
    "            full_data.iloc[i,17] = num * 7\n",
    "        elif 'month' in full_data.iloc[i,7]:\n",
    "            full_data.iloc[i,17] = num *30\n",
    "        elif 'year' in full_data.iloc[i,7]:\n",
    "            full_data.iloc[i,17] = num *365"
   ]
  },
  {
   "cell_type": "code",
   "execution_count": 25,
   "metadata": {
    "scrolled": true
   },
   "outputs": [
    {
     "data": {
      "text/plain": [
       "0         365\n",
       "1         365\n",
       "2         730\n",
       "3          21\n",
       "4         730\n",
       "         ... \n",
       "26724      30\n",
       "26725      90\n",
       "26726    1460\n",
       "26727      28\n",
       "26728     365\n",
       "Name: Age_Day, Length: 26729, dtype: int64"
      ]
     },
     "execution_count": 25,
     "metadata": {},
     "output_type": "execute_result"
    }
   ],
   "source": [
    "full_data['Age_Day'].fillna(full_data['Age_Day'].mean())"
   ]
  },
  {
   "cell_type": "code",
   "execution_count": 26,
   "metadata": {},
   "outputs": [],
   "source": [
    "full_data['LifeSpan'] = 0\n",
    "for i in range(len(full_data)):\n",
    "    if full_data.iloc[i,5] == 'Dog':\n",
    "        if full_data.iloc[i,17] < 350:\n",
    "            full_data.iloc[i,18] = 1 #infant\n",
    "        elif full_data.iloc[i,17] < 2600:\n",
    "            full_data.iloc[i,18] = 2 #adult\n",
    "        else:\n",
    "            full_data.iloc[i,18] = 3 #old\n",
    "    else:\n",
    "        if full_data.iloc[i,17] < 350:\n",
    "            full_data.iloc[i,18] = 1 #infant\n",
    "        elif full_data.iloc[i,17] < 3600:\n",
    "            full_data.iloc[i,18] = 2 #adult\n",
    "        else:\n",
    "            full_data.iloc[i,18] = 3 #old\n",
    "        "
   ]
  },
  {
   "cell_type": "code",
   "execution_count": 28,
   "metadata": {},
   "outputs": [
    {
     "data": {
      "text/plain": [
       "<matplotlib.legend.Legend at 0x1e1c7cd4348>"
      ]
     },
     "execution_count": 28,
     "metadata": {},
     "output_type": "execute_result"
    },
    {
     "data": {
      "image/png": "[encoded data removed]",
      "text/plain": [
       "<Figure size 648x360 with 1 Axes>"
      ]
     },
     "metadata": {
      "needs_background": "light"
     },
     "output_type": "display_data"
    }
   ],
   "source": [
    "Animalspan = full_data[['LifeSpan','OutcomeType']].groupby(['OutcomeType','LifeSpan']).size().unstack()\n",
    "plot9 = Animalspan.plot(kind='bar',figsize = (9,5))\n",
    "locs, labels = plt.xticks()\n",
    "plt.setp(labels, rotation=10)\n",
    "plot9.legend(bbox_to_anchor=(1, 1.0), loc=0, borderaxespad=0.,ncol=3)\n",
    "#plot9.figure.savefig(fname='figures/Animalspan.png',dpi=my_dpi)"
   ]
  },
  {
   "cell_type": "code",
   "execution_count": 29,
   "metadata": {},
   "outputs": [],
   "source": [
    "#deletes '/' and Mix from Breed\n",
    "def ext_str(in_str):\n",
    "    x=''\n",
    "    if 'Mix' in in_str:\n",
    "        out_str = in_str.replace(\"Mix\", \"\")\n",
    "    elif '/' in in_str:\n",
    "        out_str = ''\n",
    "        for x in in_str:\n",
    "            if x=='/':\n",
    "                break\n",
    "            else:\n",
    "                out_str += x\n",
    "    else:\n",
    "        out_str = in_str\n",
    "    return (out_str)"
   ]
  },
  {
   "cell_type": "code",
   "execution_count": 30,
   "metadata": {},
   "outputs": [],
   "source": [
    "full_data['Breed_simplified']=''\n",
    "for i in range(len(full_data)):\n",
    "    full_data.iloc[i,19] = ext_str(full_data.iloc[i,8])\n"
   ]
  },
  {
   "cell_type": "code",
   "execution_count": 31,
   "metadata": {},
   "outputs": [],
   "source": [
    "full_data['Color_simplified']=''\n",
    "for i in range(len(full_data)):\n",
    "    full_data.iloc[i,20] = ext_str(full_data.iloc[i,9])"
   ]
  },
  {
   "cell_type": "code",
   "execution_count": 32,
   "metadata": {},
   "outputs": [],
   "source": [
    "#converting categorial feature to numerical\n",
    "full_data[\"AnimalType\"] = full_data[\"AnimalType\"].astype('category')\n",
    "full_data[\"AnimalType\"] = full_data[\"AnimalType\"].cat.codes\n",
    "\n",
    "full_data[\"Sex\"] = full_data[\"Sex\"].astype('category')\n",
    "full_data[\"Sex\"] = full_data[\"Sex\"].cat.codes\n",
    "\n",
    "full_data[\"Breed_simplified\"] = full_data[\"Breed_simplified\"].astype('category')\n",
    "full_data[\"Breed_simplified\"] = full_data[\"Breed_simplified\"].cat.codes\n",
    "\n",
    "full_data[\"Color_simplified\"] = full_data[\"Color_simplified\"].astype('category')\n",
    "full_data[\"Color_simplified\"] = full_data[\"Color_simplified\"].cat.codes\n",
    "\n",
    "full_data[\"Intact\"] = full_data[\"Intact\"].astype('category')\n",
    "full_data[\"Intact\"] = full_data[\"Intact\"].cat.codes\n",
    "\n",
    "full_data[\"OutcomeType\"] = full_data[\"OutcomeType\"].astype('category')\n",
    "full_data[\"OutcomeType\"] = full_data[\"OutcomeType\"].cat.codes"
   ]
  },
  {
   "cell_type": "code",
   "execution_count": 36,
   "metadata": {},
   "outputs": [],
   "source": [
    "X = full_data.loc[ :,['HasName','AnimalType','Month','Weekday','WorkHour','Intact','Sex','LifeSpan','Breed_simplified','Color_simplified']]\n",
    "y = full_data['OutcomeType']\n",
    "X_train, X_test, y_train, y_test = train_test_split(X, y, test_size=0.2)"
   ]
  },
  {
   "cell_type": "code",
   "execution_count": 37,
   "metadata": {},
   "outputs": [
    {
     "data": {
      "text/plain": [
       "RandomForestRegressor(bootstrap=True, ccp_alpha=0.0, criterion='mse',\n",
       "                      max_depth=None, max_features='auto', max_leaf_nodes=None,\n",
       "                      max_samples=None, min_impurity_decrease=0.0,\n",
       "                      min_impurity_split=None, min_samples_leaf=1,\n",
       "                      min_samples_split=2, min_weight_fraction_leaf=0.0,\n",
       "                      n_estimators=100, n_jobs=None, oob_score=False,\n",
       "                      random_state=None, verbose=0, warm_start=False)"
      ]
     },
     "execution_count": 37,
     "metadata": {},
     "output_type": "execute_result"
    }
   ],
   "source": [
    "#       ********* Random Forest ********\n",
    "RF_Model = RandomForestRegressor(n_estimators = 100)#, random_state = 42)\n",
    "RF_Model.fit(X_train, y_train)"
   ]
  },
  {
   "cell_type": "code",
   "execution_count": 38,
   "metadata": {},
   "outputs": [],
   "source": [
    "# computing feature importance\n",
    "importances = RF_Model.feature_importances_\n",
    "std = np.std([tree.feature_importances_ for tree in RF_Model.estimators_],axis=0)\n",
    "indices = np.argsort(importances)[::-1]"
   ]
  },
  {
   "cell_type": "code",
   "execution_count": 40,
   "metadata": {},
   "outputs": [
    {
     "name": "stdout",
     "output_type": "stream",
     "text": [
      "Feature ranking:\n",
      "1. feature 5 (0.264468)\n",
      "2. feature 8 (0.172248)\n",
      "3. feature 2 (0.141741)\n",
      "4. feature 9 (0.128721)\n",
      "5. feature 3 (0.098980)\n",
      "6. feature 7 (0.087288)\n",
      "7. feature 6 (0.035190)\n",
      "8. feature 4 (0.027738)\n",
      "9. feature 0 (0.026722)\n",
      "10. feature 1 (0.016903)\n"
     ]
    },
    {
     "data": {
      "text/plain": [
       "(-1, 10)"
      ]
     },
     "execution_count": 40,
     "metadata": {},
     "output_type": "execute_result"
    },
    {
     "data": {
      "image/png": "[encoded data removed]",
      "text/plain": [
       "<Figure size 648x288 with 1 Axes>"
      ]
     },
     "metadata": {
      "needs_background": "light"
     },
     "output_type": "display_data"
    }
   ],
   "source": [
    "# Print the feature ranking\n",
    "print(\"Feature ranking:\")\n",
    "\n",
    "for f in range(X.shape[1]):\n",
    "    print(\"%d. feature %d (%f)\" % (f + 1, indices[f], importances[indices[f]]))\n",
    "\n",
    "# Plot the feature importances of the forest\n",
    "plt.figure(figsize=(9,4))\n",
    "plt.title(\"Feature importances\")\n",
    "plt.bar(range(X.shape[1]), importances[indices],\n",
    "       color=\"r\", yerr=std[indices], align=\"center\")\n",
    "plt.xticks(range(X.shape[1]), indices)\n",
    "plt.xlim([-1, X.shape[1]])\n",
    "#plt.savefig(fname='figures/feature_importance.png',dpi=my_dpi)"
   ]
  },
  {
   "cell_type": "code",
   "execution_count": 41,
   "metadata": {},
   "outputs": [
    {
     "name": "stdout",
     "output_type": "stream",
     "text": [
      "Mean Absolute Error: 1.13 degrees.\n"
     ]
    }
   ],
   "source": [
    "# Use the Model to predict the test data\n",
    "pred_RF = RF_Model.predict(X_test)\n",
    "\n",
    "# Calculate the absolute errors\n",
    "errors_RF = abs(pred_RF - y_test)\n",
    "\n",
    "# Print out the mean absolute error (mae)\n",
    "print('Mean Absolute Error:', round(np.mean(errors_RF), 2), 'degrees.')"
   ]
  },
  {
   "cell_type": "code",
   "execution_count": 42,
   "metadata": {},
   "outputs": [
    {
     "data": {
      "text/plain": [
       "SVC(C=1.0, break_ties=False, cache_size=200, class_weight=None, coef0=0.0,\n",
       "    decision_function_shape='ovr', degree=3, gamma='scale', kernel='rbf',\n",
       "    max_iter=-1, probability=False, random_state=None, shrinking=True,\n",
       "    tol=0.001, verbose=False)"
      ]
     },
     "execution_count": 42,
     "metadata": {},
     "output_type": "execute_result"
    }
   ],
   "source": [
    "#         ******** SVM ********\n",
    "SVM_Model = svm.SVC()\n",
    "SVM_Model.fit(X, y)"
   ]
  },
  {
   "cell_type": "code",
   "execution_count": 43,
   "metadata": {},
   "outputs": [
    {
     "name": "stdout",
     "output_type": "stream",
     "text": [
      "Mean Absolute Error: 1.58 degrees.\n",
      "Accuracy           : 0.519\n"
     ]
    }
   ],
   "source": [
    "# Use the Model to predict the test data\n",
    "pred_SVM = SVM_Model.predict(X_test)\n",
    "\n",
    "# Calculate the absolute errors\n",
    "errors_SVM = abs(pred_SVM - y_test)\n",
    "\n",
    "# Print out the mean absolute error (mae)\n",
    "print('Mean Absolute Error:', round(np.mean(errors_SVM), 2), 'degrees.')\n",
    "\n",
    "#Calculate Accuracy\n",
    "Acc_SVM = accuracy_score(pred_SVM,y_test)\n",
    "\n",
    "#Print out Accuracy\n",
    "print('Accuracy           :', round(Acc_SVM,3))"
   ]
  },
  {
   "cell_type": "code",
   "execution_count": 44,
   "metadata": {},
   "outputs": [],
   "source": [
    "#  *********** ADABOOST *********\n",
    "ADA_Model = AdaBoostClassifier(n_estimators=50, learning_rate=1, random_state=0)\n",
    "model = ADA_Model.fit(X, y)"
   ]
  },
  {
   "cell_type": "code",
   "execution_count": 46,
   "metadata": {},
   "outputs": [
    {
     "name": "stdout",
     "output_type": "stream",
     "text": [
      "Mean Absolute Error: 1.03 degrees.\n",
      "Accuracy           : 0.625\n"
     ]
    }
   ],
   "source": [
    "# Use the Model to predict the test data\n",
    "pred_ADA = ADA_Model.predict(X_test)\n",
    "\n",
    "# Calculate the absolute errors\n",
    "errors_ADA = abs(pred_ADA - y_test)\n",
    "\n",
    "# Print out the mean absolute error (mae)\n",
    "print('Mean Absolute Error:', round(np.mean(errors_ADA), 2), 'degrees.')\n",
    "\n",
    "#Calculate Accuracy\n",
    "Acc_ADA = accuracy_score(pred_ADA,y_test)\n",
    "\n",
    "#Print out Accuracy\n",
    "print('Accuracy           :', round(Acc_ADA , 3))"
   ]
  },
  {
   "cell_type": "code",
   "execution_count": 47,
   "metadata": {},
   "outputs": [
    {
     "data": {
      "text/plain": [
       "DecisionTreeClassifier(ccp_alpha=0.0, class_weight=None, criterion='gini',\n",
       "                       max_depth=None, max_features=None, max_leaf_nodes=None,\n",
       "                       min_impurity_decrease=0.0, min_impurity_split=None,\n",
       "                       min_samples_leaf=1, min_samples_split=2,\n",
       "                       min_weight_fraction_leaf=0.0, presort='deprecated',\n",
       "                       random_state=None, splitter='best')"
      ]
     },
     "execution_count": 47,
     "metadata": {},
     "output_type": "execute_result"
    }
   ],
   "source": [
    "#    ************* Decision Tree ************\n",
    "DT_Model=DecisionTreeClassifier()\n",
    "DT_Model.fit(X,y)"
   ]
  },
  {
   "cell_type": "code",
   "execution_count": 49,
   "metadata": {},
   "outputs": [
    {
     "name": "stdout",
     "output_type": "stream",
     "text": [
      "Mean Absolute Error: 0.12 degrees.\n",
      "Accuracy           : 0.957\n"
     ]
    }
   ],
   "source": [
    "# Use the Model to predict the test data\n",
    "pred_DT = DT_Model.predict(X_test)\n",
    "\n",
    "# Calculate the absolute errors\n",
    "errors_DT = abs(pred_DT - y_test)\n",
    "\n",
    "# Print out the mean absolute error (mae)\n",
    "print('Mean Absolute Error:', round(np.mean(errors_DT), 2), 'degrees.')\n",
    "\n",
    "#Calculating Accuracy\n",
    "Acc_DT = accuracy_score(pred_DT,y_test)\n",
    "\n",
    "#Printing out Accuracy\n",
    "print('Accuracy           :', round(Acc_DT, 3))"
   ]
  },
  {
   "cell_type": "code",
   "execution_count": null,
   "metadata": {},
   "outputs": [],
   "source": []
  }
 ],
 "metadata": {
  "kernelspec": {
   "display_name": "Python 3",
   "language": "python",
   "name": "python3"
  },
  "language_info": {
   "codemirror_mode": {
    "name": "ipython",
    "version": 3
   },
   "file_extension": ".py",
   "mimetype": "text/x-python",
   "name": "python",
   "nbconvert_exporter": "python",
   "pygments_lexer": "ipython3",
   "version": "3.7.6"
  }
 },
 "nbformat": 4,
 "nbformat_minor": 2
}
